{
 "cells": [
  {
   "cell_type": "code",
   "execution_count": 1,
   "metadata": {
    "collapsed": false
   },
   "outputs": [],
   "source": [
    "%matplotlib inline\n",
    "import numpy as np\n",
    "import matplotlib.pyplot as plt\n",
    "import matplotlib.patches as mpatches\n",
    "from scipy import stats, integrate, optimize\n",
    "import pandas as pd\n",
    "import seaborn as sns\n",
    "import calendar\n",
    "import warnings\n",
    "warnings.simplefilter(action = \"ignore\", category = FutureWarning)\n",
    "pd.options.mode.chained_assignment = None"
   ]
  },
  {
   "cell_type": "code",
   "execution_count": 2,
   "metadata": {
    "collapsed": true
   },
   "outputs": [],
   "source": [
    "pd.options.display.max_rows = 400\n",
    "pd.options.display.max_columns = 400"
   ]
  },
  {
   "cell_type": "code",
   "execution_count": 53,
   "metadata": {
    "collapsed": true
   },
   "outputs": [],
   "source": [
    "new = pd.read_excel(\"Results_Updated_2014_2015.xlsx\")\n",
    "demo = pd.read_excel(\"demo_cleaned_incomplete_07_04_2016.xlsx\")"
   ]
  },
  {
   "cell_type": "code",
   "execution_count": 54,
   "metadata": {
    "collapsed": false
   },
   "outputs": [],
   "source": [
    "data = new[[\"Order\", \"Date\", \"Ward Name\", \"RNONE\"]]\n",
    "data.ix[data.RNONE == \"RNONE\", \"RNONE\"] = \"Negative\"\n",
    "data.ix[data.RNONE != \"Negative\", \"RNONE\"] = \"Positive\"\n",
    "data = data.rename(columns={\"RNONE\":\"Type\"})\n",
    "data = data.rename(columns={\"Order\":\"Order_ID\"})\n",
    "data = data.rename(columns={\"Ward Name\":\"Ward_Name\"})\n",
    "data[\"Positive\"] = np.nan\n",
    "data = data.reset_index(drop=True)\n",
    "data.ix[data.Type == \"Positive\", \"Positive\"] = 1\n",
    "data.ix[data.Type == \"Negative\", \"Positive\"] = 0\n",
    "data.Date = data.Date.astype(\"str\")\n",
    "data.Positive = data.Positive.astype(int)"
   ]
  },
  {
   "cell_type": "code",
   "execution_count": 55,
   "metadata": {
    "collapsed": true
   },
   "outputs": [],
   "source": [
    "posdata = new[[\"Order\", \"Date\", \"Ward Name\", \"RNONE\",\"RBHOM\", \"RDFRG\", \"RNANA\", \"RCOLI\", \"RHART\", \"RCHIL\", \"RGIAR\", \"RHIS2\", \"RIODA\", \"RTRIC\", \"EIAG\", \"EIAC\", \"EIAH\"]]\n",
    "posdata = posdata.reset_index(drop=True)"
   ]
  },
  {
   "cell_type": "code",
   "execution_count": 57,
   "metadata": {
    "collapsed": false
   },
   "outputs": [],
   "source": [
    "organisms = {}\n",
    "for x in posdata.values:\n",
    "    l = []\n",
    "    for i, y in enumerate(x):\n",
    "        if (str(y) != 'nan') & (i >=3):\n",
    "            l.append(y)\n",
    "    organisms[x[0]] = l\n",
    "#organisms "
   ]
  },
  {
   "cell_type": "code",
   "execution_count": 58,
   "metadata": {
    "collapsed": true
   },
   "outputs": [],
   "source": [
    "a = pd.Series(list(organisms.values()))\n",
    "b = pd.Series(list(organisms.keys()))\n",
    "c = pd.concat([b,a], axis=1)\n",
    "c = c.rename(columns = {0:\"Order_ID\", 1:\"Organism\"})\n",
    "c.Organism = c.Organism.apply(lambda x: \", \".join([i[1:] if (i[0] == \"R\" or i[0] == \"2\") else i[:] for i in x]))"
   ]
  },
  {
   "cell_type": "code",
   "execution_count": 59,
   "metadata": {
    "collapsed": false
   },
   "outputs": [],
   "source": [
    "data = data.merge(c, how=\"outer\", on=\"Order_ID\")\n",
    "data.Date = pd.to_datetime(data.Date)\n",
    "data = data.merge(demo, left_on=\"Order_ID\", right_on=\"Order\").drop(\"Order\", axis=1)\n",
    "data = data.drop([\"Doctor\", \"Doc_Ward\", \"Result\", \"State\", \"Doc_City1\", \"Doc_City2\", \"Doc_Location\"], axis=1)"
   ]
  },
  {
   "cell_type": "code",
   "execution_count": 77,
   "metadata": {
    "collapsed": false
   },
   "outputs": [],
   "source": [
    "for x in data.Date.dt.year.unique():\n",
    "    for i in data[data.Date.dt.year == x].Date.dt.month.unique():\n",
    "        d = data[(data.Date.dt.year == x) & (data.Date.dt.month == i)].reset_index(drop=True)\n",
    "        d.Date = d.Date.astype(str)\n",
    "        d.to_json(\"data_{0}_{1}.json\".format(x, calendar.month_name[i].lower()), orient=\"records\")"
   ]
  },
  {
   "cell_type": "code",
   "execution_count": 76,
   "metadata": {
    "collapsed": false
   },
   "outputs": [],
   "source": []
  },
  {
   "cell_type": "code",
   "execution_count": null,
   "metadata": {
    "collapsed": false,
    "scrolled": false
   },
   "outputs": [],
   "source": []
  },
  {
   "cell_type": "code",
   "execution_count": null,
   "metadata": {
    "collapsed": false
   },
   "outputs": [],
   "source": []
  },
  {
   "cell_type": "code",
   "execution_count": null,
   "metadata": {
    "collapsed": false
   },
   "outputs": [],
   "source": []
  },
  {
   "cell_type": "code",
   "execution_count": null,
   "metadata": {
    "collapsed": true
   },
   "outputs": [],
   "source": []
  }
 ],
 "metadata": {
  "kernelspec": {
   "display_name": "Python 3",
   "language": "python",
   "name": "python3"
  },
  "language_info": {
   "codemirror_mode": {
    "name": "ipython",
    "version": 3
   },
   "file_extension": ".py",
   "mimetype": "text/x-python",
   "name": "python",
   "nbconvert_exporter": "python",
   "pygments_lexer": "ipython3",
   "version": "3.5.1"
  }
 },
 "nbformat": 4,
 "nbformat_minor": 0
}

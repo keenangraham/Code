{
 "cells": [
  {
   "cell_type": "code",
   "execution_count": 1,
   "metadata": {
    "collapsed": true
   },
   "outputs": [],
   "source": [
    "import pandas as pd\n",
    "import matplotlib\n",
    "import numpy as np"
   ]
  },
  {
   "cell_type": "code",
   "execution_count": 2,
   "metadata": {
    "collapsed": true
   },
   "outputs": [],
   "source": [
    "HB = pd.read_excel('HISBox.xls', header=None)\n",
    "EIAH = pd.read_excel(\"EIAH Final.xlsx\", header=None)\n",
    "HIS2 = pd.read_excel('RHIS2 Final.xls')"
   ]
  },
  {
   "cell_type": "code",
   "execution_count": 8,
   "metadata": {
    "collapsed": false
   },
   "outputs": [
    {
     "data": {
      "text/html": [
       "<div>\n",
       "<table border=\"1\" class=\"dataframe\">\n",
       "  <thead>\n",
       "    <tr style=\"text-align: right;\">\n",
       "      <th></th>\n",
       "      <th>Order#</th>\n",
       "      <th>Test</th>\n",
       "    </tr>\n",
       "  </thead>\n",
       "  <tbody>\n",
       "    <tr>\n",
       "      <th>0</th>\n",
       "      <td>I2190189</td>\n",
       "      <td>HISBox</td>\n",
       "    </tr>\n",
       "    <tr>\n",
       "      <th>1</th>\n",
       "      <td>I2110997</td>\n",
       "      <td>HISBox</td>\n",
       "    </tr>\n",
       "    <tr>\n",
       "      <th>2</th>\n",
       "      <td>I1280183</td>\n",
       "      <td>HISBox</td>\n",
       "    </tr>\n",
       "    <tr>\n",
       "      <th>3</th>\n",
       "      <td>I1300140</td>\n",
       "      <td>HISBox</td>\n",
       "    </tr>\n",
       "    <tr>\n",
       "      <th>4</th>\n",
       "      <td>I1220173</td>\n",
       "      <td>HISBox</td>\n",
       "    </tr>\n",
       "  </tbody>\n",
       "</table>\n",
       "</div>"
      ],
      "text/plain": [
       "     Order#    Test\n",
       "0  I2190189  HISBox\n",
       "1  I2110997  HISBox\n",
       "2  I1280183  HISBox\n",
       "3  I1300140  HISBox\n",
       "4  I1220173  HISBox"
      ]
     },
     "execution_count": 8,
     "metadata": {},
     "output_type": "execute_result"
    }
   ],
   "source": [
    "HB.head()"
   ]
  },
  {
   "cell_type": "code",
   "execution_count": 15,
   "metadata": {
    "collapsed": false
   },
   "outputs": [
    {
     "data": {
      "text/html": [
       "<div>\n",
       "<table border=\"1\" class=\"dataframe\">\n",
       "  <thead>\n",
       "    <tr style=\"text-align: right;\">\n",
       "      <th></th>\n",
       "      <th>Order#</th>\n",
       "      <th>Test</th>\n",
       "      <th>2</th>\n",
       "      <th>3</th>\n",
       "      <th>4</th>\n",
       "      <th>5</th>\n",
       "    </tr>\n",
       "  </thead>\n",
       "  <tbody>\n",
       "    <tr>\n",
       "      <th>0</th>\n",
       "      <td>G9030738</td>\n",
       "      <td>PCPAR</td>\n",
       "      <td>CALL REQUESTED</td>\n",
       "      <td>2014-01-03</td>\n",
       "      <td>Anti Aging Health Institute</td>\n",
       "      <td>Entamoeba</td>\n",
       "    </tr>\n",
       "    <tr>\n",
       "      <th>1</th>\n",
       "      <td>G9220760</td>\n",
       "      <td>PCPAR</td>\n",
       "      <td>CALL REQUESTED</td>\n",
       "      <td>2014-01-22</td>\n",
       "      <td>Lab1 AS</td>\n",
       "      <td>Entamoeba</td>\n",
       "    </tr>\n",
       "    <tr>\n",
       "      <th>2</th>\n",
       "      <td>G9300723</td>\n",
       "      <td>PCPAR</td>\n",
       "      <td>CALL REQUESTED</td>\n",
       "      <td>2014-01-30</td>\n",
       "      <td>Genova Europe</td>\n",
       "      <td>Entamoeba</td>\n",
       "    </tr>\n",
       "    <tr>\n",
       "      <th>3</th>\n",
       "      <td>G9310688</td>\n",
       "      <td>PCPAR</td>\n",
       "      <td>CALL REQUESTED</td>\n",
       "      <td>2014-01-31</td>\n",
       "      <td>Sebring Clinic</td>\n",
       "      <td>Entamoeba</td>\n",
       "    </tr>\n",
       "    <tr>\n",
       "      <th>4</th>\n",
       "      <td>H0040940</td>\n",
       "      <td>PCPAR</td>\n",
       "      <td>CALL REQUESTED</td>\n",
       "      <td>2014-02-04</td>\n",
       "      <td>Northampton Wellness Associates</td>\n",
       "      <td>Entamoeba</td>\n",
       "    </tr>\n",
       "  </tbody>\n",
       "</table>\n",
       "</div>"
      ],
      "text/plain": [
       "     Order#   Test               2          3  \\\n",
       "0  G9030738  PCPAR  CALL REQUESTED 2014-01-03   \n",
       "1  G9220760  PCPAR  CALL REQUESTED 2014-01-22   \n",
       "2  G9300723  PCPAR  CALL REQUESTED 2014-01-30   \n",
       "3  G9310688  PCPAR  CALL REQUESTED 2014-01-31   \n",
       "4  H0040940  PCPAR  CALL REQUESTED 2014-02-04   \n",
       "\n",
       "                                 4          5  \n",
       "0      Anti Aging Health Institute  Entamoeba  \n",
       "1                          Lab1 AS  Entamoeba  \n",
       "2                    Genova Europe  Entamoeba  \n",
       "3                   Sebring Clinic  Entamoeba  \n",
       "4  Northampton Wellness Associates  Entamoeba  "
      ]
     },
     "execution_count": 15,
     "metadata": {},
     "output_type": "execute_result"
    }
   ],
   "source": [
    "EIAH.head()"
   ]
  },
  {
   "cell_type": "code",
   "execution_count": 18,
   "metadata": {
    "collapsed": false
   },
   "outputs": [
    {
     "data": {
      "text/html": [
       "<div>\n",
       "<table border=\"1\" class=\"dataframe\">\n",
       "  <thead>\n",
       "    <tr style=\"text-align: right;\">\n",
       "      <th></th>\n",
       "      <th>Order#</th>\n",
       "      <th>Test</th>\n",
       "      <th>Results</th>\n",
       "      <th>Ord. Date</th>\n",
       "      <th>Ward Name</th>\n",
       "    </tr>\n",
       "  </thead>\n",
       "  <tbody>\n",
       "    <tr>\n",
       "      <th>0</th>\n",
       "      <td>G9030518</td>\n",
       "      <td>RHIS2</td>\n",
       "      <td>MOD T/C W/O RBC</td>\n",
       "      <td>2014-01-03</td>\n",
       "      <td>Referring Atlanta</td>\n",
       "    </tr>\n",
       "    <tr>\n",
       "      <th>1</th>\n",
       "      <td>G9300723</td>\n",
       "      <td>RHIS2</td>\n",
       "      <td>FEW T/C W/O RBC</td>\n",
       "      <td>2014-01-30</td>\n",
       "      <td>Genova Europe</td>\n",
       "    </tr>\n",
       "    <tr>\n",
       "      <th>2</th>\n",
       "      <td>G9310688</td>\n",
       "      <td>RHIS2</td>\n",
       "      <td>FEW T W/O RBC</td>\n",
       "      <td>2014-01-31</td>\n",
       "      <td>Sebring Clinic</td>\n",
       "    </tr>\n",
       "    <tr>\n",
       "      <th>3</th>\n",
       "      <td>H0040940</td>\n",
       "      <td>RHIS2</td>\n",
       "      <td>MOD T</td>\n",
       "      <td>2014-02-04</td>\n",
       "      <td>Northampton Wellness Associates</td>\n",
       "    </tr>\n",
       "    <tr>\n",
       "      <th>4</th>\n",
       "      <td>H0100245</td>\n",
       "      <td>RHIS2</td>\n",
       "      <td>MNY T/C W/O RBC</td>\n",
       "      <td>2014-02-10</td>\n",
       "      <td>Referring Atlanta</td>\n",
       "    </tr>\n",
       "  </tbody>\n",
       "</table>\n",
       "</div>"
      ],
      "text/plain": [
       "     Order#   Test          Results  Ord. Date  \\\n",
       "0  G9030518  RHIS2  MOD T/C W/O RBC 2014-01-03   \n",
       "1  G9300723  RHIS2  FEW T/C W/O RBC 2014-01-30   \n",
       "2  G9310688  RHIS2    FEW T W/O RBC 2014-01-31   \n",
       "3  H0040940  RHIS2            MOD T 2014-02-04   \n",
       "4  H0100245  RHIS2  MNY T/C W/O RBC 2014-02-10   \n",
       "\n",
       "                         Ward Name  \n",
       "0                Referring Atlanta  \n",
       "1                    Genova Europe  \n",
       "2                   Sebring Clinic  \n",
       "3  Northampton Wellness Associates  \n",
       "4                Referring Atlanta  "
      ]
     },
     "execution_count": 18,
     "metadata": {},
     "output_type": "execute_result"
    }
   ],
   "source": [
    "HIS2.head()"
   ]
  },
  {
   "cell_type": "code",
   "execution_count": 19,
   "metadata": {
    "collapsed": true
   },
   "outputs": [],
   "source": [
    "M1 = HB.merge(EIAH, how='outer', on='Order#')"
   ]
  },
  {
   "cell_type": "code",
   "execution_count": 22,
   "metadata": {
    "collapsed": false
   },
   "outputs": [],
   "source": [
    "M2 = M1.merge(HIS2, how='outer', on='Order#')"
   ]
  },
  {
   "cell_type": "code",
   "execution_count": 40,
   "metadata": {
    "collapsed": false
   },
   "outputs": [],
   "source": [
    "M2 = M2[['Order#', 'Test_x', 'Test_y', 'Test', 'Ord. Date', 3]]"
   ]
  },
  {
   "cell_type": "code",
   "execution_count": 47,
   "metadata": {
    "collapsed": false
   },
   "outputs": [
    {
     "data": {
      "text/plain": [
       "3     I1300140\n",
       "4     I1220173\n",
       "11    I2191282\n",
       "17    I3190441\n",
       "21    I4200155\n",
       "28    I5190214\n",
       "29    I6180221\n",
       "34    I6080124\n",
       "43    I7221194\n",
       "49    J0070920\n",
       "50    J0060078\n",
       "51    J0060382\n",
       "52    I9160081\n",
       "53    I9220188\n",
       "54    I9180089\n",
       "55    I9181001\n",
       "56    I9160607\n",
       "57    I9110418\n",
       "58    I9020199\n",
       "Name: Order#, dtype: object"
      ]
     },
     "execution_count": 47,
     "metadata": {},
     "output_type": "execute_result"
    }
   ],
   "source": [
    "M2[(M2.Test_x == 'HISBox') & (M2.Test_y != 'PCPAR') & (M2.Test != 'RHIS2')]['Order#']"
   ]
  },
  {
   "cell_type": "code",
   "execution_count": null,
   "metadata": {
    "collapsed": true
   },
   "outputs": [],
   "source": []
  }
 ],
 "metadata": {
  "kernelspec": {
   "display_name": "Python 3",
   "language": "python",
   "name": "python3"
  },
  "language_info": {
   "codemirror_mode": {
    "name": "ipython",
    "version": 3
   },
   "file_extension": ".py",
   "mimetype": "text/x-python",
   "name": "python",
   "nbconvert_exporter": "python",
   "pygments_lexer": "ipython3",
   "version": "3.4.3"
  }
 },
 "nbformat": 4,
 "nbformat_minor": 0
}
